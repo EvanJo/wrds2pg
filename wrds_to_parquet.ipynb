{
 "cells": [
  {
   "cell_type": "code",
   "execution_count": null,
   "id": "0cdaa2a9-a585-4bd4-8c08-b64487650585",
   "metadata": {},
   "outputs": [],
   "source": [
    "from wrds2pg import wrds_to_parquet"
   ]
  },
  {
   "cell_type": "code",
   "execution_count": null,
   "id": "0f4324f9-81dd-4200-b9f6-a0c69e167bbd",
   "metadata": {},
   "outputs": [],
   "source": [
    "%%time\n",
    "wrds_to_parquet(\"funda\", \"comp\", wrds_id=\"iangow\")"
   ]
  },
  {
   "cell_type": "code",
   "execution_count": null,
   "id": "dc9adde7-0b8b-453b-9a34-5a48fb5a5d6b",
   "metadata": {},
   "outputs": [],
   "source": [
    "%%time\n",
    "wrds_to_parquet(\"company\", \"comp\", wrds_id=\"iangow\", data_dir=\"~/data\")"
   ]
  }
 ],
 "metadata": {
  "kernelspec": {
   "display_name": "Python 3 (ipykernel)",
   "language": "python",
   "name": "python3"
  },
  "language_info": {
   "codemirror_mode": {
    "name": "ipython",
    "version": 3
   },
   "file_extension": ".py",
   "mimetype": "text/x-python",
   "name": "python",
   "nbconvert_exporter": "python",
   "pygments_lexer": "ipython3",
   "version": "3.11.3"
  }
 },
 "nbformat": 4,
 "nbformat_minor": 5
}
