{
 "cells": [
  {
   "cell_type": "code",
   "execution_count": 21,
   "id": "3146facc-7060-4865-b6d8-15ef07684894",
   "metadata": {},
   "outputs": [],
   "source": [
    "import pandas as pd\n",
    "import pyarrow.csv as pv\n",
    "import pyarrow.parquet as pq\n",
    "import pyarrow as pa"
   ]
  },
  {
   "cell_type": "code",
   "execution_count": 4,
   "id": "aa0bb7b5-bed1-4821-8927-ed5706f5cb88",
   "metadata": {},
   "outputs": [],
   "source": [
    "data = {\"state\": [\"Ohio\", \"Ohio\", \"Ohio\", \"Nevada\", \"Nevada\", \"Nevada\"],\n",
    "        \"year\": [2000, 2001, 2002, 2001, 2002, 2003],\n",
    "        \"pop\": [1.5, 1.7, 3.6, 2.4, 2.9, 3.2]}\n",
    "frame = pd.DataFrame(data)\n",
    "frame.to_csv(\"data.csv\")"
   ]
  },
  {
   "cell_type": "code",
   "execution_count": 50,
   "id": "34597f92-cee8-471b-b4a0-9221ea574853",
   "metadata": {},
   "outputs": [
    {
     "data": {
      "text/plain": [
       "'Last modified: 01/17/2023 18:28:41'"
      ]
     },
     "execution_count": 50,
     "metadata": {},
     "output_type": "execute_result"
    }
   ],
   "source": [
    "table = pv.read_csv(\"data.csv\")\n",
    "last_modified = 'Last modified: 01/17/2023 18:28:41'\n",
    "last_modified"
   ]
  },
  {
   "cell_type": "code",
   "execution_count": 51,
   "id": "b1dda37c-81b1-469f-bc73-353c4e0be838",
   "metadata": {},
   "outputs": [],
   "source": [
    "my_metadata = table.schema.with_metadata({b'last_modified': last_modified.encode()})"
   ]
  },
  {
   "cell_type": "code",
   "execution_count": 52,
   "id": "d915fce6-329e-42bd-845b-06d41d211eee",
   "metadata": {},
   "outputs": [],
   "source": [
    "to_write = table.cast(my_metadata)"
   ]
  },
  {
   "cell_type": "code",
   "execution_count": 53,
   "id": "79971c4b-ca83-43cd-b60b-9279f2f924d0",
   "metadata": {},
   "outputs": [],
   "source": [
    "pq.write_table(to_write, 'data.parquet')"
   ]
  },
  {
   "cell_type": "code",
   "execution_count": 54,
   "id": "86fb0073-da19-4238-b840-1469edcec912",
   "metadata": {},
   "outputs": [],
   "source": [
    "parquet_file = pq.ParquetFile('data.parquet')\n",
    "metadata = parquet_file.metadata"
   ]
  },
  {
   "cell_type": "code",
   "execution_count": 55,
   "id": "a7695ded-789b-466d-8484-1c0c22d1c179",
   "metadata": {},
   "outputs": [
    {
     "data": {
      "text/plain": [
       "'Last modified: 01/17/2023 18:28:41'"
      ]
     },
     "execution_count": 55,
     "metadata": {},
     "output_type": "execute_result"
    }
   ],
   "source": [
    "last_modified_read = pq.read_table('data.parquet'). \\\n",
    "                        schema.metadata[b'last_modified']. \\\n",
    "                        decode('utf-8')\n",
    "last_modified_read"
   ]
  },
  {
   "cell_type": "code",
   "execution_count": null,
   "id": "6dbd5fe0-19db-468c-83d6-9ed968b736c1",
   "metadata": {},
   "outputs": [],
   "source": []
  }
 ],
 "metadata": {
  "kernelspec": {
   "display_name": "Python 3 (ipykernel)",
   "language": "python",
   "name": "python3"
  },
  "language_info": {
   "codemirror_mode": {
    "name": "ipython",
    "version": 3
   },
   "file_extension": ".py",
   "mimetype": "text/x-python",
   "name": "python",
   "nbconvert_exporter": "python",
   "pygments_lexer": "ipython3",
   "version": "3.9.13"
  }
 },
 "nbformat": 4,
 "nbformat_minor": 5
}
